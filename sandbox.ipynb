{
 "cells": [
  {
   "cell_type": "code",
   "execution_count": 1,
   "id": "ced6f52f",
   "metadata": {},
   "outputs": [],
   "source": [
    "%load_ext autoreload\n",
    "%autoreload 2"
   ]
  },
  {
   "cell_type": "code",
   "execution_count": 2,
   "id": "3d683daa",
   "metadata": {},
   "outputs": [],
   "source": [
    "from src.audio_dataloaders import get_dataloader\n",
    "from data_csgo_tournament.csgo_tournament_metadata import DATASET_ROOT"
   ]
  },
  {
   "cell_type": "code",
   "execution_count": 3,
   "id": "dbd26da9",
   "metadata": {},
   "outputs": [],
   "source": [
    "file_path = f'./{DATASET_ROOT}/LCB_added'\n",
    "path_to_processed_csgo_data = f'./{DATASET_ROOT}/demos'\n",
    "path_to_audio=f'./{DATASET_ROOT}/LCB_audio'\n",
    "path_to_splitted_audio=f'./{DATASET_ROOT}/LCB_data_snd_devided'"
   ]
  },
  {
   "cell_type": "code",
   "execution_count": 4,
   "id": "f3fc7038",
   "metadata": {},
   "outputs": [
    {
     "name": "stdout",
     "output_type": "stream",
     "text": [
      "./data_csgo_tournament/LCB_data_snd_devided exists; skip splitting\n",
      "Something went wrong while trying to grab data from .json: [Errno 2] No such file or directory: 'prepared.json'\n",
      "Commencing audio annotations splitting\n",
      "Emotion statistic:\n",
      "1 - 7321     интерес\n",
      "2 - 657     радость\n",
      "3 - 280     удивление\n",
      "4 - 295     горе\n",
      "5 - 822     гнев\n",
      "6 - 20     отвращение\n",
      "7 - 289     презрение\n",
      "8 - 337     страх\n",
      "9 - 10     стыд\n",
      "10 - 155     вина\n",
      "10186 amount of samples in total\n",
      "\n",
      "Prepare train and val lists\n"
     ]
    },
    {
     "data": {
      "application/vnd.jupyter.widget-view+json": {
       "model_id": "93ed71246a17431985ff7234bec62e83",
       "version_major": 2,
       "version_minor": 0
      },
      "text/plain": [
       "  0%|          | 0/10 [00:00<?, ?it/s]"
      ]
     },
     "metadata": {},
     "output_type": "display_data"
    },
    {
     "data": {
      "application/vnd.jupyter.widget-view+json": {
       "model_id": "cc461af33b364bebba0d540eebf67448",
       "version_major": 2,
       "version_minor": 0
      },
      "text/plain": [
       "  0%|          | 0/717 [00:00<?, ?it/s]"
      ]
     },
     "metadata": {},
     "output_type": "display_data"
    },
    {
     "name": "stdout",
     "output_type": "stream",
     "text": [
      "[]\n"
     ]
    },
    {
     "ename": "IndexError",
     "evalue": "list index out of range",
     "output_type": "error",
     "traceback": [
      "\u001b[0;31m---------------------------------------------------------------------------\u001b[0m",
      "\u001b[0;31mFileNotFoundError\u001b[0m                         Traceback (most recent call last)",
      "File \u001b[0;32m~/aaptss/emotion_recog/src/audio_parser.py:158\u001b[0m, in \u001b[0;36mhandle_audio_loading\u001b[0;34m(file_path, path_to_audio, path_to_splitted_audio, test_size)\u001b[0m\n\u001b[1;32m    157\u001b[0m \u001b[38;5;28;01mtry\u001b[39;00m:\n\u001b[0;32m--> 158\u001b[0m     \u001b[38;5;28;01mwith\u001b[39;00m \u001b[38;5;28;43mopen\u001b[39;49m\u001b[43m(\u001b[49m\u001b[38;5;124;43m\"\u001b[39;49m\u001b[38;5;124;43mprepared.json\u001b[39;49m\u001b[38;5;124;43m\"\u001b[39;49m\u001b[43m,\u001b[49m\u001b[43m \u001b[49m\u001b[38;5;124;43m\"\u001b[39;49m\u001b[38;5;124;43mr\u001b[39;49m\u001b[38;5;124;43m\"\u001b[39;49m\u001b[43m)\u001b[49m \u001b[38;5;28;01mas\u001b[39;00m file:\n\u001b[1;32m    159\u001b[0m         \u001b[38;5;28mprint\u001b[39m(\u001b[38;5;124m'\u001b[39m\u001b[38;5;124mGrabbing audio loading detais from the .json file\u001b[39m\u001b[38;5;124m'\u001b[39m)\n",
      "\u001b[0;31mFileNotFoundError\u001b[0m: [Errno 2] No such file or directory: 'prepared.json'",
      "\nDuring handling of the above exception, another exception occurred:\n",
      "\u001b[0;31mIndexError\u001b[0m                                Traceback (most recent call last)",
      "Cell \u001b[0;32mIn [4], line 1\u001b[0m\n\u001b[0;32m----> 1\u001b[0m train_dataloader,val_dataloader \u001b[38;5;241m=\u001b[39m \u001b[43mget_dataloader\u001b[49m\u001b[43m(\u001b[49m\u001b[43mfile_path\u001b[49m\u001b[38;5;241;43m=\u001b[39;49m\u001b[43mfile_path\u001b[49m\u001b[43m,\u001b[49m\n\u001b[1;32m      2\u001b[0m \u001b[43m                                                 \u001b[49m\u001b[43mpath_to_audio\u001b[49m\u001b[38;5;241;43m=\u001b[39;49m\u001b[43mpath_to_audio\u001b[49m\u001b[43m,\u001b[49m\n\u001b[1;32m      3\u001b[0m \u001b[43m                                                 \u001b[49m\u001b[43mpath_to_splitted_audio\u001b[49m\u001b[38;5;241;43m=\u001b[39;49m\u001b[43mpath_to_splitted_audio\u001b[49m\u001b[43m,\u001b[49m\n\u001b[1;32m      4\u001b[0m \u001b[43m                                                 \u001b[49m\u001b[43mpath_to_processed_csgo_data\u001b[49m\u001b[38;5;241;43m=\u001b[39;49m\u001b[43mpath_to_processed_csgo_data\u001b[49m\u001b[43m,\u001b[49m\n\u001b[1;32m      5\u001b[0m \u001b[43m                                                 \u001b[49m\u001b[43mtest_size\u001b[49m\u001b[38;5;241;43m=\u001b[39;49m\u001b[38;5;241;43m0.2\u001b[39;49m\u001b[43m,\u001b[49m\n\u001b[1;32m      6\u001b[0m \u001b[43m                                                 \u001b[49m\u001b[43muse_game_context\u001b[49m\u001b[38;5;241;43m=\u001b[39;49m\u001b[38;5;28;43;01mFalse\u001b[39;49;00m\u001b[43m,\u001b[49m\n\u001b[1;32m      7\u001b[0m \u001b[43m                                                 \u001b[49m\u001b[43mbatch_size\u001b[49m\u001b[38;5;241;43m=\u001b[39;49m\u001b[38;5;241;43m32\u001b[39;49m\u001b[43m)\u001b[49m\n",
      "File \u001b[0;32m~/aaptss/emotion_recog/src/audio_dataloaders.py:186\u001b[0m, in \u001b[0;36mget_dataloader\u001b[0;34m(file_path, path_to_audio, path_to_splitted_audio, path_to_processed_csgo_data, test_size, use_game_context, batch_size, DatasetClass, num_workers, train_list, val_list)\u001b[0m\n\u001b[1;32m    184\u001b[0m \u001b[38;5;28;01mif\u001b[39;00m train_list \u001b[38;5;129;01mis\u001b[39;00m \u001b[38;5;28;01mNone\u001b[39;00m:\n\u001b[1;32m    185\u001b[0m     val_list \u001b[38;5;241m=\u001b[39m \u001b[38;5;28;01mNone\u001b[39;00m\n\u001b[0;32m--> 186\u001b[0m     train_list, val_list \u001b[38;5;241m=\u001b[39m \u001b[43mhandle_audio_loading\u001b[49m\u001b[43m(\u001b[49m\u001b[43mfile_path\u001b[49m\u001b[43m,\u001b[49m\u001b[43m \u001b[49m\u001b[43mpath_to_audio\u001b[49m\u001b[43m,\u001b[49m\u001b[43m \u001b[49m\u001b[43mpath_to_splitted_audio\u001b[49m\u001b[43m,\u001b[49m\u001b[43m \u001b[49m\u001b[43mtest_size\u001b[49m\u001b[43m)\u001b[49m\n\u001b[1;32m    188\u001b[0m \u001b[38;5;28mprint\u001b[39m(\u001b[38;5;124m'\u001b[39m\u001b[38;5;130;01m\\n\u001b[39;00m\u001b[38;5;124mPrepare train dataset\u001b[39m\u001b[38;5;124m'\u001b[39m)\n\u001b[1;32m    189\u001b[0m train_dataset \u001b[38;5;241m=\u001b[39m DatasetClass(train_list, \n\u001b[1;32m    190\u001b[0m                              path_to_processed_csgo_data\u001b[38;5;241m=\u001b[39mpath_to_processed_csgo_data,\n\u001b[1;32m    191\u001b[0m                              use_game_context\u001b[38;5;241m=\u001b[39muse_game_context, \n\u001b[1;32m    192\u001b[0m                              num_workers\u001b[38;5;241m=\u001b[39mnum_workers)\n",
      "File \u001b[0;32m~/aaptss/emotion_recog/src/audio_parser.py:168\u001b[0m, in \u001b[0;36mhandle_audio_loading\u001b[0;34m(file_path, path_to_audio, path_to_splitted_audio, test_size)\u001b[0m\n\u001b[1;32m    166\u001b[0m \u001b[38;5;28mprint\u001b[39m(\u001b[38;5;124m'\u001b[39m\u001b[38;5;130;01m\\n\u001b[39;00m\u001b[38;5;124mPrepare train and val lists\u001b[39m\u001b[38;5;124m'\u001b[39m)\n\u001b[1;32m    167\u001b[0m start \u001b[38;5;241m=\u001b[39m time\u001b[38;5;241m.\u001b[39mtime()\n\u001b[0;32m--> 168\u001b[0m train_list, val_list \u001b[38;5;241m=\u001b[39m \u001b[43msplit_annotations\u001b[49m\u001b[43m(\u001b[49m\u001b[43mfull_dict_with_emt\u001b[49m\u001b[43m,\u001b[49m\u001b[43m \u001b[49m\u001b[43mpath_to_splitted_audio\u001b[49m\u001b[43m,\u001b[49m\u001b[43m \u001b[49m\u001b[43mtest_size\u001b[49m\u001b[43m)\u001b[49m\n\u001b[1;32m    170\u001b[0m \u001b[38;5;28mprint\u001b[39m(\u001b[38;5;124m\"\u001b[39m\u001b[38;5;124mIt took: \u001b[39m\u001b[38;5;124m\"\u001b[39m, \u001b[38;5;28mround\u001b[39m((time\u001b[38;5;241m.\u001b[39mtime() \u001b[38;5;241m-\u001b[39m start) \u001b[38;5;241m/\u001b[39m \u001b[38;5;241m60\u001b[39m, \u001b[38;5;241m2\u001b[39m), \u001b[38;5;124m\"\u001b[39m\u001b[38;5;124m minutes\u001b[39m\u001b[38;5;124m\"\u001b[39m)\n\u001b[1;32m    171\u001b[0m \u001b[38;5;28mprint\u001b[39m(\u001b[38;5;124m'\u001b[39m\u001b[38;5;124mtrain size: \u001b[39m\u001b[38;5;124m'\u001b[39m, \u001b[38;5;28mlen\u001b[39m(train_list))\n",
      "File \u001b[0;32m~/aaptss/emotion_recog/src/audio_parser.py:124\u001b[0m, in \u001b[0;36msplit_annotations\u001b[0;34m(full_emt, path_to_audio, test_size)\u001b[0m\n\u001b[1;32m    121\u001b[0m file \u001b[38;5;241m=\u001b[39m glob\u001b[38;5;241m.\u001b[39mglob(\n\u001b[1;32m    122\u001b[0m     path_to_audio \u001b[38;5;241m+\u001b[39m \u001b[38;5;124mf\u001b[39m\u001b[38;5;124m'\u001b[39m\u001b[38;5;124m/\u001b[39m\u001b[38;5;132;01m{\u001b[39;00mn_player\u001b[38;5;132;01m}\u001b[39;00m\u001b[38;5;124m_match\u001b[39m\u001b[38;5;132;01m{\u001b[39;00mn_match\u001b[38;5;132;01m}\u001b[39;00m\u001b[38;5;124m_round\u001b[39m\u001b[38;5;132;01m{\u001b[39;00mn_round\u001b[38;5;132;01m}\u001b[39;00m\u001b[38;5;124m_\u001b[39m\u001b[38;5;132;01m{\u001b[39;00mstart_time\u001b[38;5;132;01m}\u001b[39;00m\u001b[38;5;124m*.wav\u001b[39m\u001b[38;5;124m'\u001b[39m)\n\u001b[1;32m    123\u001b[0m \u001b[38;5;28mprint\u001b[39m(file)\n\u001b[0;32m--> 124\u001b[0m X\u001b[38;5;241m.\u001b[39mappend(\u001b[43mfile\u001b[49m\u001b[43m[\u001b[49m\u001b[38;5;241;43m0\u001b[39;49m\u001b[43m]\u001b[49m)\n\u001b[1;32m    125\u001b[0m y\u001b[38;5;241m.\u001b[39mappend(key_emt)\n\u001b[1;32m    126\u001b[0m info\u001b[38;5;241m.\u001b[39mappend([n_player, n_match, n_round, start_time])\n",
      "\u001b[0;31mIndexError\u001b[0m: list index out of range"
     ]
    }
   ],
   "source": [
    "train_dataloader,val_dataloader = get_dataloader(file_path=file_path,\n",
    "                                                 path_to_audio=path_to_audio,\n",
    "                                                 path_to_splitted_audio=path_to_splitted_audio,\n",
    "                                                 path_to_processed_csgo_data=path_to_processed_csgo_data,\n",
    "                                                 test_size=0.2,\n",
    "                                                 use_game_context=False,\n",
    "                                                 batch_size=32)"
   ]
  },
  {
   "cell_type": "code",
   "execution_count": null,
   "id": "d805e4ae",
   "metadata": {},
   "outputs": [],
   "source": []
  }
 ],
 "metadata": {
  "kernelspec": {
   "display_name": "Python 3 (ipykernel)",
   "language": "python",
   "name": "python3"
  },
  "language_info": {
   "codemirror_mode": {
    "name": "ipython",
    "version": 3
   },
   "file_extension": ".py",
   "mimetype": "text/x-python",
   "name": "python",
   "nbconvert_exporter": "python",
   "pygments_lexer": "ipython3",
   "version": "3.9.15"
  }
 },
 "nbformat": 4,
 "nbformat_minor": 5
}
